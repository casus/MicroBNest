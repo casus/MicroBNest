{
 "cells": [
  {
   "cell_type": "code",
   "execution_count": null,
   "id": "776eb5e1-ece3-46e2-9431-39e54df3bab9",
   "metadata": {},
   "outputs": [],
   "source": [
    "import matplotlib.pyplot as plt\n",
    "import numpy as np\n",
    "import plotly.io as pio\n",
    "from stardist.models.pix2pix import Generator\n",
    "from stardist.src.data.virtual_staining_datasets import NpyDataloader\n",
    "\n",
    "pio.renderers.default = \"iframe\"\n",
    "BASE_PATH = \"\""
   ]
  },
  {
   "cell_type": "markdown",
   "id": "56a41b00-1afa-4037-a29f-7216991f3249",
   "metadata": {},
   "source": [
    "## Cyt to nuc"
   ]
  },
  {
   "cell_type": "code",
   "execution_count": null,
   "id": "171f41ac-adac-452c-8b30-c74a566f3060",
   "metadata": {},
   "outputs": [],
   "source": [
    "test_dataset = NpyDataloader(\n",
    "    path=\"\",\n",
    "    im_size=256,\n",
    "    norm_type=\"minmax\",\n",
    "    random_jitter=False,\n",
    ")"
   ]
  },
  {
   "cell_type": "code",
   "execution_count": null,
   "id": "26fd8e65-8463-454a-9314-f6c7cbcb32c1",
   "metadata": {},
   "outputs": [],
   "source": [
    "i = 24\n",
    "x, y = test_dataset[i]\n",
    "plt.figure()\n",
    "plt.imshow(x, vmin=-1, vmax=1)\n",
    "plt.figure()\n",
    "plt.imshow(y, vmin=-1, vmax=1)"
   ]
  },
  {
   "cell_type": "code",
   "execution_count": null,
   "id": "7eb0eaf4",
   "metadata": {},
   "outputs": [],
   "source": [
    "x = np.expand_dims(x, 0)\n",
    "y = np.expand_dims(y, 0)"
   ]
  },
  {
   "cell_type": "markdown",
   "id": "db250d7d-535b-4428-a7d2-562b854c4d7a",
   "metadata": {},
   "source": [
    "## Pix2pix"
   ]
  },
  {
   "cell_type": "code",
   "execution_count": null,
   "id": "d3be9d9b-d3c8-4fe2-883c-731cd6bc55cc",
   "metadata": {},
   "outputs": [],
   "source": [
    "generator = Generator()\n",
    "generator.load_weights(f\"\")\n",
    "output = generator(x, training=True)"
   ]
  },
  {
   "cell_type": "code",
   "execution_count": null,
   "id": "8f3b18ad-7143-49d6-a9a9-da7201985182",
   "metadata": {},
   "outputs": [],
   "source": [
    "plt.figure()\n",
    "plt.imshow(output[0, ...])\n",
    "plt.axis(\"off\")\n",
    "plt.gca().set_position([0, 0, 1, 1])\n",
    "plt.imsave(\"\", output[0, ..., 0], vmin=-1, vmax=1)\n",
    "\n",
    "\n",
    "plt.figure()\n",
    "plt.imshow(y[0, ...])\n",
    "plt.axis(\"off\")\n",
    "plt.gca().set_position([0, 0, 1, 1])\n",
    "plt.imsave(\"\", y[0, ..., 0], vmin=-1, vmax=1)\n",
    "\n",
    "plt.figure()\n",
    "plt.imshow(x[0, ...])\n",
    "plt.axis(\"off\")\n",
    "plt.gca().set_position([0, 0, 1, 1])\n",
    "plt.imsave(\"\", x[0, ..., 0], vmin=-1, vmax=1)"
   ]
  },
  {
   "cell_type": "markdown",
   "id": "ffa2bbc9-2a9a-42b2-bd90-f4d5c3210f92",
   "metadata": {},
   "source": [
    "## UNet"
   ]
  },
  {
   "cell_type": "code",
   "execution_count": null,
   "id": "02ee77c6-0872-45b7-8938-be286407029f",
   "metadata": {},
   "outputs": [],
   "source": [
    "generator = Generator()\n",
    "generator.load_weights(f\"\")\n",
    "output = generator(x, training=True)"
   ]
  },
  {
   "cell_type": "code",
   "execution_count": null,
   "id": "a7930351-3c0e-4de3-afee-b3c92f198f5c",
   "metadata": {},
   "outputs": [],
   "source": [
    "plt.figure()\n",
    "plt.imshow(output[0, ...])\n",
    "plt.axis(\"off\")\n",
    "plt.gca().set_position([0, 0, 1, 1])\n",
    "plt.imsave(\"\", output[0, ..., 0], vmin=-1, vmax=1)\n",
    "\n",
    "plt.figure()\n",
    "plt.imshow(y[0, ...])\n",
    "plt.axis(\"off\")\n",
    "plt.gca().set_position([0, 0, 1, 1])\n",
    "plt.imsave(\"\", y[0, ..., 0], vmin=-1, vmax=1)\n",
    "\n",
    "plt.figure()\n",
    "plt.imshow(x[0, ...])\n",
    "plt.axis(\"off\")\n",
    "plt.gca().set_position([0, 0, 1, 1])\n",
    "plt.imsave(\"\", x[0, ..., 0], vmin=-1, vmax=1)"
   ]
  },
  {
   "cell_type": "markdown",
   "id": "de4aef10-131e-4a3e-9863-dd3d23ff2c72",
   "metadata": {},
   "source": [
    "## Nuc to cyt"
   ]
  },
  {
   "cell_type": "code",
   "execution_count": null,
   "id": "e82a6bd0-636e-4af3-a6cb-35438a9535e0",
   "metadata": {},
   "outputs": [],
   "source": [
    "test_dataset = NpyDataloader(\n",
    "    path=\"\",\n",
    "    im_size=256,\n",
    "    norm_type=\"minmax\",\n",
    "    random_jitter=False,\n",
    ")"
   ]
  },
  {
   "cell_type": "code",
   "execution_count": null,
   "id": "f579f3f6-7b4e-4ff9-b825-595b9783592a",
   "metadata": {},
   "outputs": [],
   "source": [
    "i = 24\n",
    "x, y = test_dataset[i]\n",
    "\n",
    "plt.figure()\n",
    "plt.imshow(x)\n",
    "plt.figure()\n",
    "plt.imshow(y)\n",
    "\n",
    "x = np.expand_dims(x, 0)\n",
    "y = np.expand_dims(y, 0)"
   ]
  },
  {
   "cell_type": "markdown",
   "id": "cf9a367e-1587-46d3-b35e-825fa89ac391",
   "metadata": {},
   "source": [
    "## Pix2pix"
   ]
  },
  {
   "cell_type": "code",
   "execution_count": null,
   "id": "fae3baac-bb3e-49de-898a-ce33c5f31b27",
   "metadata": {},
   "outputs": [],
   "source": [
    "generator = Generator()\n",
    "generator.load_weights(f\"\")\n",
    "output = generator(x, training=True)"
   ]
  },
  {
   "cell_type": "code",
   "execution_count": null,
   "id": "0a541167-d733-4621-ac29-b5762b8ceb70",
   "metadata": {},
   "outputs": [],
   "source": [
    "plt.figure()\n",
    "plt.imshow(output[0, ...])\n",
    "plt.axis(\"off\")\n",
    "plt.gca().set_position([0, 0, 1, 1])\n",
    "plt.imsave(\"\", output[0, ..., 0], vmin=-1, vmax=1)\n",
    "\n",
    "\n",
    "plt.figure()\n",
    "plt.imshow(y[0, ...])\n",
    "plt.axis(\"off\")\n",
    "plt.gca().set_position([0, 0, 1, 1])\n",
    "plt.imsave(\"\", y[0, ..., 0], vmin=-1, vmax=1)\n",
    "\n",
    "plt.figure()\n",
    "plt.imshow(x[0, ...])\n",
    "plt.axis(\"off\")\n",
    "plt.gca().set_position([0, 0, 1, 1])\n",
    "plt.imsave(\"\", x[0, ..., 0], vmin=-1, vmax=1)"
   ]
  },
  {
   "cell_type": "markdown",
   "id": "931f5ccc-28d6-4724-b526-70bbf78502cc",
   "metadata": {},
   "source": [
    "## UNet"
   ]
  },
  {
   "cell_type": "code",
   "execution_count": null,
   "id": "036c42c6-2fd4-46a9-9b06-d2ce8cd71b9f",
   "metadata": {},
   "outputs": [],
   "source": [
    "generator = Generator()\n",
    "generator.load_weights(f\"\")\n",
    "output = generator(x, training=True)"
   ]
  },
  {
   "cell_type": "code",
   "execution_count": null,
   "id": "b623e840-2bf2-439e-9bc8-48bfa77f85ea",
   "metadata": {},
   "outputs": [],
   "source": [
    "plt.imshow(output[0, ...], vmin=-1, vmax=1)\n",
    "plt.axis(\"off\")\n",
    "plt.gca().set_position([0, 0, 1, 1])\n",
    "plt.imsave(\"\", output[0, ..., 0], vmin=-1, vmax=1)\n",
    "\n",
    "\n",
    "plt.figure()\n",
    "plt.imshow(y[0, ...], vmin=-1, vmax=1)\n",
    "plt.axis(\"off\")\n",
    "plt.gca().set_position([0, 0, 1, 1])\n",
    "plt.imsave(\"\", y[0, ..., 0], vmin=-1, vmax=1)\n",
    "\n",
    "plt.figure()\n",
    "plt.imshow(x[0, ...], vmin=-1, vmax=1)\n",
    "plt.axis(\"off\")\n",
    "plt.gca().set_position([0, 0, 1, 1])\n",
    "plt.imsave(\"\", x[0, ..., 0], vmin=-1, vmax=1)"
   ]
  }
 ],
 "metadata": {
  "kernelspec": {
   "display_name": "CONDA (cvdm)",
   "language": "python",
   "name": "cvdm-2.15"
  },
  "language_info": {
   "codemirror_mode": {
    "name": "ipython",
    "version": 3
   },
   "file_extension": ".py",
   "mimetype": "text/x-python",
   "name": "python",
   "nbconvert_exporter": "python",
   "pygments_lexer": "ipython3",
   "version": "3.10.13"
  }
 },
 "nbformat": 4,
 "nbformat_minor": 5
}
