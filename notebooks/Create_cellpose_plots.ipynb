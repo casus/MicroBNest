{
 "cells": [
  {
   "cell_type": "code",
   "execution_count": null,
   "metadata": {},
   "outputs": [],
   "source": [
    "import matplotlib.pyplot as plt\n",
    "import numpy as np\n",
    "from cellpose import io, models, plot, utils\n",
    "\n",
    "TRAIN_DIR = \"\"\n",
    "\n",
    "\n",
    "output = io.load_train_test_data(\n",
    "    TRAIN_DIR,\n",
    "    image_filter=\"_img\",\n",
    "    mask_filter=\"_masks\",\n",
    "    look_one_level_down=False,\n",
    ")\n",
    "images, labels, image_names, test_images, test_labels, image_names_test = output"
   ]
  },
  {
   "cell_type": "code",
   "execution_count": null,
   "metadata": {},
   "outputs": [],
   "source": [
    "model = models.CellposeModel(pretrained_model=\"\")"
   ]
  },
  {
   "cell_type": "code",
   "execution_count": null,
   "metadata": {},
   "outputs": [],
   "source": [
    "masks_pred, flows, styles = model.eval(images[:2], channels=[1, 3])\n",
    "idx = 0\n",
    "mask = labels[idx]\n",
    "flow = flows[idx][0]\n",
    "\n",
    "fig = plt.figure(figsize=(12, 5))\n",
    "plot.show_segmentation(fig, images[idx], mask, flow, channels=[1, 3])\n",
    "plt.tight_layout()\n",
    "plt.show()"
   ]
  },
  {
   "cell_type": "code",
   "execution_count": null,
   "metadata": {},
   "outputs": [],
   "source": [
    "idx = 0\n",
    "img = images[idx]\n",
    "maski = masks_pred[idx]\n",
    "\n",
    "outlines = utils.masks_to_outlines(maski)\n",
    "overlay = plot.mask_overlay(img, maski)\n",
    "\n",
    "outX, outY = np.nonzero(outlines)\n",
    "imgout = img.copy()\n",
    "imgout[outX, outY] = np.array([255, 0, 0])\n",
    "\n",
    "plt.imshow(imgout)\n",
    "plt.figure()\n",
    "plt.imshow(img)\n",
    "plt.figure()"
   ]
  },
  {
   "cell_type": "code",
   "execution_count": null,
   "metadata": {},
   "outputs": [],
   "source": [
    "plt.imshow(img)\n",
    "plt.figure()\n",
    "plt.axis(\"off\")\n",
    "plt.gca().set_position([0, 0, 1, 1])\n",
    "plt.imsave(\"\", img)"
   ]
  },
  {
   "cell_type": "code",
   "execution_count": null,
   "metadata": {},
   "outputs": [],
   "source": [
    "plt.imshow(imgout)\n",
    "plt.figure()\n",
    "plt.figure()\n",
    "plt.axis(\"off\")\n",
    "plt.gca().set_position([0, 0, 1, 1])\n",
    "plt.imsave(\"\", imgout)"
   ]
  },
  {
   "cell_type": "code",
   "execution_count": null,
   "metadata": {},
   "outputs": [],
   "source": [
    "random_colors = np.random.randint(0, 256, size=(len(labels[idx] + 10), 3))"
   ]
  },
  {
   "cell_type": "code",
   "execution_count": null,
   "metadata": {},
   "outputs": [],
   "source": [
    "mask_rgb_gt = plot.mask_rgb(labels[idx], random_colors)\n",
    "mask_rgb_gt[np.all(mask_rgb_gt == [255, 255, 255], axis=-1)] = [0, 0, 0]\n",
    "plt.imshow(mask_rgb_gt)\n",
    "plt.axis(\"off\")\n",
    "plt.gca().set_position([0, 0, 1, 1])\n",
    "plt.imsave(\"\", mask_rgb_gt)"
   ]
  },
  {
   "cell_type": "code",
   "execution_count": null,
   "metadata": {},
   "outputs": [],
   "source": [
    "mask_rgb = plot.mask_rgb(maski, random_colors)\n",
    "mask_rgb[np.all(mask_rgb == [255, 255, 255], axis=-1)] = [0, 0, 0]\n",
    "plt.imshow(mask_rgb)\n",
    "plt.axis(\"off\")\n",
    "plt.gca().set_position([0, 0, 1, 1])\n",
    "plt.imsave(\"\", mask_rgb)"
   ]
  }
 ],
 "metadata": {
  "kernelspec": {
   "display_name": "CONDA (cellpose)",
   "language": "python",
   "name": "cellpose"
  },
  "language_info": {
   "codemirror_mode": {
    "name": "ipython",
    "version": 3
   },
   "file_extension": ".py",
   "mimetype": "text/x-python",
   "name": "python",
   "nbconvert_exporter": "python",
   "pygments_lexer": "ipython3",
   "version": "3.8.19"
  }
 },
 "nbformat": 4,
 "nbformat_minor": 4
}
